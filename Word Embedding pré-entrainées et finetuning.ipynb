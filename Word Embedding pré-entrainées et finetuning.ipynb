{
 "cells": [
  {
   "cell_type": "code",
   "execution_count": 1,
   "id": "3f62eff8-1082-4125-bfe8-50ca862f4022",
   "metadata": {},
   "outputs": [],
   "source": [
    "# Import des librairies\n",
    "import numpy as np\n",
    "from tensorflow.keras.datasets import imdb\n",
    "from tensorflow.keras.preprocessing.sequence import pad_sequences\n",
    "from tensorflow.keras.models import Sequential\n",
    "from tensorflow.keras.layers import Embedding, Flatten, Dense\n",
    "from sklearn.metrics import accuracy_score, classification_report, confusion_matrix\n",
    "from tensorflow.keras.preprocessing.text import Tokenizer\n",
    "from tensorflow.keras.layers import Embedding, LSTM, Dense\n",
    "from tensorflow.keras.utils import to_categorical\n",
    "from tensorflow.keras.callbacks import EarlyStopping"
   ]
  },
  {
   "cell_type": "code",
   "execution_count": 2,
   "id": "0758127c-0725-44f6-aba4-ab7929caf5b9",
   "metadata": {},
   "outputs": [],
   "source": [
    "# Charger les données\n",
    "(x_train, y_train), (x_test, y_test) = imdb.load_data(num_words=10000)"
   ]
  },
  {
   "cell_type": "code",
   "execution_count": 3,
   "id": "8f72b40c-65a9-4c58-a6dc-5d00c2877956",
   "metadata": {},
   "outputs": [],
   "source": [
    "# Obtenir le mapping inverse des index vers les mots\n",
    "word_index = imdb.get_word_index()\n",
    "reverse_word_index = dict([(value, key) for (key, value) in word_index.items()])"
   ]
  },
  {
   "cell_type": "code",
   "execution_count": 4,
   "id": "94c91abc-17bb-45f3-b58b-36e8933559bb",
   "metadata": {},
   "outputs": [],
   "source": [
    "# Convertir les séquences d'indices en textes\n",
    "x_train_texts = [' '.join([reverse_word_index.get(i - 3, '?') for i in sequence]) for sequence in x_train]\n",
    "x_test_texts = [' '.join([reverse_word_index.get(i - 3, '?') for i in sequence]) for sequence in x_test]"
   ]
  },
  {
   "cell_type": "code",
   "execution_count": 5,
   "id": "5fae9874-9fcd-488a-87bc-382303b7811f",
   "metadata": {},
   "outputs": [],
   "source": [
    "# Appliquer la tokenization\n",
    "tokenizer = Tokenizer(num_words=10000)\n",
    "tokenizer.fit_on_texts(x_train_texts)\n",
    "x_train_sequences = tokenizer.texts_to_sequences(x_train_texts)\n",
    "x_test_sequences = tokenizer.texts_to_sequences(x_test_texts)"
   ]
  },
  {
   "cell_type": "code",
   "execution_count": 6,
   "id": "6bcc3e17-a539-4928-bdd8-301a5a0c5ac2",
   "metadata": {},
   "outputs": [],
   "source": [
    "# Assurer que toutes vos séquences ont la même longueur\n",
    "max_len = 100\n",
    "x_train_padded = pad_sequences(x_train_sequences, maxlen=max_len)\n",
    "x_test_padded = pad_sequences(x_test_sequences, maxlen=max_len)"
   ]
  },
  {
   "cell_type": "code",
   "execution_count": 7,
   "id": "2bd6409c-c276-47ab-adcf-b41ce7b5b133",
   "metadata": {},
   "outputs": [],
   "source": [
    "# Charger les embeddings GloVe\n",
    "embeddings_index = {}\n",
    "glove_path = 'glove.6B.50d.txt'  # Assurez-vous de spécifier le bon chemin\n",
    "with open(glove_path, encoding='utf-8') as file:\n",
    "    for line in file:\n",
    "        values = line.split()\n",
    "        word = values[0]\n",
    "        coefs = np.asarray(values[1:], dtype='float32')\n",
    "        embeddings_index[word] = coefs"
   ]
  },
  {
   "cell_type": "code",
   "execution_count": 8,
   "id": "9f98aa1f-1b5d-4d79-b795-091005ef6e57",
   "metadata": {},
   "outputs": [],
   "source": [
    "# Créer la matrice d'embedding\n",
    "num_words = min(10000, len(word_index) + 1)\n",
    "embedding_matrix = np.zeros((num_words, 50))\n",
    "\n",
    "for word, i in word_index.items():\n",
    "    if i < num_words:\n",
    "        embedding_vector = embeddings_index.get(word)\n",
    "        if embedding_vector is not None:\n",
    "            embedding_matrix[i] = embedding_vector"
   ]
  },
  {
   "cell_type": "code",
   "execution_count": 9,
   "id": "69589a78-07c4-49a0-995e-04d68267cfcb",
   "metadata": {},
   "outputs": [],
   "source": [
    "# Construire le modèle avec une couche d'embedding\n",
    "model = Sequential()\n",
    "model.add(Embedding(num_words, 50, input_length=max_len, weights=[embedding_matrix], trainable=True))\n",
    "model.add(Flatten())\n",
    "model.add(Dense(32, activation='relu'))\n",
    "model.add(Dense(1, activation='sigmoid'))"
   ]
  },
  {
   "cell_type": "code",
   "execution_count": 10,
   "id": "3f45f241-ee99-45b4-9421-275f153c6dcf",
   "metadata": {},
   "outputs": [],
   "source": [
    "# Compiler le modèle\n",
    "model.compile(optimizer='adam', loss='binary_crossentropy', metrics=['accuracy'])"
   ]
  },
  {
   "cell_type": "code",
   "execution_count": 11,
   "id": "d6cf5b94-849f-4c30-a144-c815f5991941",
   "metadata": {},
   "outputs": [
    {
     "name": "stdout",
     "output_type": "stream",
     "text": [
      "Epoch 1/10\n",
      "625/625 [==============================] - 11s 16ms/step - loss: 0.6039 - accuracy: 0.6615 - val_loss: 0.4903 - val_accuracy: 0.7586\n",
      "Epoch 2/10\n",
      "625/625 [==============================] - 9s 15ms/step - loss: 0.3733 - accuracy: 0.8338 - val_loss: 0.4236 - val_accuracy: 0.8024\n",
      "Epoch 3/10\n",
      "625/625 [==============================] - 10s 16ms/step - loss: 0.2354 - accuracy: 0.9064 - val_loss: 0.4496 - val_accuracy: 0.8084\n",
      "Epoch 4/10\n",
      "625/625 [==============================] - 9s 14ms/step - loss: 0.1289 - accuracy: 0.9538 - val_loss: 0.5538 - val_accuracy: 0.8084\n",
      "Epoch 5/10\n",
      "625/625 [==============================] - 11s 18ms/step - loss: 0.0491 - accuracy: 0.9868 - val_loss: 0.7053 - val_accuracy: 0.7996\n",
      "Epoch 6/10\n",
      "625/625 [==============================] - 11s 17ms/step - loss: 0.0141 - accuracy: 0.9980 - val_loss: 0.8277 - val_accuracy: 0.8012\n",
      "Epoch 7/10\n",
      "625/625 [==============================] - 9s 15ms/step - loss: 0.0041 - accuracy: 0.9995 - val_loss: 0.9061 - val_accuracy: 0.8046\n",
      "Epoch 8/10\n",
      "625/625 [==============================] - 10s 15ms/step - loss: 0.0016 - accuracy: 0.9998 - val_loss: 0.9946 - val_accuracy: 0.8046\n",
      "Epoch 9/10\n",
      "625/625 [==============================] - 10s 16ms/step - loss: 8.0698e-04 - accuracy: 0.9999 - val_loss: 1.0488 - val_accuracy: 0.8042\n",
      "Epoch 10/10\n",
      "625/625 [==============================] - 10s 17ms/step - loss: 5.0502e-04 - accuracy: 0.9999 - val_loss: 1.1005 - val_accuracy: 0.8040\n"
     ]
    },
    {
     "data": {
      "text/plain": [
       "<keras.src.callbacks.History at 0x243dbcd1190>"
      ]
     },
     "execution_count": 11,
     "metadata": {},
     "output_type": "execute_result"
    }
   ],
   "source": [
    "# Entraîner le modèle\n",
    "model.fit(x_train_padded, np.array(y_train), epochs=10, batch_size=32, validation_split=0.2)"
   ]
  },
  {
   "cell_type": "code",
   "execution_count": 16,
   "id": "6956c7d9-26e0-43e4-864e-1aab13f1f352",
   "metadata": {},
   "outputs": [
    {
     "name": "stdout",
     "output_type": "stream",
     "text": [
      "782/782 [==============================] - 3s 3ms/step\n"
     ]
    }
   ],
   "source": [
    "# Évaluer le modèle sur les données de test\n",
    "y_pred_prob = model.predict(x_test_padded)\n",
    "y_pred = np.argmax(y_pred_prob, axis=1)"
   ]
  },
  {
   "cell_type": "code",
   "execution_count": 18,
   "id": "18accba1-826f-4068-9ccd-f5e20bbf01a6",
   "metadata": {},
   "outputs": [
    {
     "name": "stdout",
     "output_type": "stream",
     "text": [
      "782/782 [==============================] - 4s 5ms/step\n",
      "Matrice de confusion:\n",
      "[[10078  2422]\n",
      " [ 2350 10150]]\n",
      "Accuracy Score: 0.80912\n"
     ]
    }
   ],
   "source": [
    "# Évaluer le modèle sur les données de test\n",
    "y_pred_prob = model.predict(x_test_padded)\n",
    "y_pred = (y_pred_prob > 0.5).astype(int)  # Convertir les probabilités en classes binaires (0 ou 1)\n",
    "\n",
    "# Afficher la matrice de confusion\n",
    "conf_matrix = confusion_matrix(y_test, y_pred)\n",
    "print(\"Matrice de confusion:\")\n",
    "print(conf_matrix)\n",
    "\n",
    "# Calculer et afficher le score de précision\n",
    "acc_score = accuracy_score(y_test, y_pred)\n",
    "print(f\"Accuracy Score: {acc_score}\")"
   ]
  },
  {
   "cell_type": "code",
   "execution_count": null,
   "id": "0790d196-bdf7-47c8-af2d-97597782e26b",
   "metadata": {},
   "outputs": [],
   "source": []
  }
 ],
 "metadata": {
  "kernelspec": {
   "display_name": "Python 3 (ipykernel)",
   "language": "python",
   "name": "python3"
  },
  "language_info": {
   "codemirror_mode": {
    "name": "ipython",
    "version": 3
   },
   "file_extension": ".py",
   "mimetype": "text/x-python",
   "name": "python",
   "nbconvert_exporter": "python",
   "pygments_lexer": "ipython3",
   "version": "3.11.3"
  }
 },
 "nbformat": 4,
 "nbformat_minor": 5
}
